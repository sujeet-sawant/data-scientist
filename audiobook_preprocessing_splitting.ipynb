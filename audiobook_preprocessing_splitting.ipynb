{
 "cells": [
  {
   "cell_type": "markdown",
   "metadata": {},
   "source": [
    "### Extract the data from csv"
   ]
  },
  {
   "cell_type": "code",
   "execution_count": 51,
   "metadata": {},
   "outputs": [],
   "source": [
    "import numpy as np\n",
    "from sklearn import preprocessing\n",
    "\n",
    "raw_csv_data = np.loadtxt(r'D:\\SUJEET\\data_scientist\\Audio_book_Businesscase\\Audiobooks_data.csv', delimiter = ',')\n",
    "\n",
    "unscaled_inputs_all = raw_csv_data[:,1:-1]\n",
    "targets_all = raw_csv_data[:,-1]"
   ]
  },
  {
   "cell_type": "markdown",
   "metadata": {},
   "source": [
    "### Balance the data"
   ]
  },
  {
   "cell_type": "code",
   "execution_count": 3,
   "metadata": {},
   "outputs": [],
   "source": [
    "num_one_targets = int(np.sum(targets_all))\n",
    "zero_targets_counter = 0\n",
    "indices_to_remove = []\n",
    "\n",
    "for i in range(targets_all.shape[0]):\n",
    "    if targets_all[i] ==0:\n",
    "        zero_targets_counter +=1\n",
    "        if zero_targets_counter>num_one_targets:\n",
    "            indices_to_remove.append(i)\n",
    "            \n",
    "unscale_inputs_equal_priors=np.delete(unscaled_inputs_all,indices_to_remove, axis=0)\n",
    "targets_equal_priors= np.delete(targets_all, indices_to_remove, axis=0)\n",
    "\n",
    "        "
   ]
  },
  {
   "cell_type": "markdown",
   "metadata": {},
   "source": [
    "### Standardize the inputs"
   ]
  },
  {
   "cell_type": "code",
   "execution_count": 17,
   "metadata": {},
   "outputs": [],
   "source": [
    "scaled_inputs = preprocessing.scale(unscale_inputs_equal_priors)"
   ]
  },
  {
   "cell_type": "markdown",
   "metadata": {},
   "source": [
    "### Shuffle the data "
   ]
  },
  {
   "cell_type": "code",
   "execution_count": 14,
   "metadata": {},
   "outputs": [],
   "source": [
    "shuffled_indices = np.arange(scaled_inputs.shape[0])\n",
    "np.random.shuffle(shuffled_indices)\n",
    "\n",
    "shuffled_inputs = scaled_inputs[shuffled_indices]\n",
    "shuffled_targets = targets_equal_priors[shuffled_indices]"
   ]
  },
  {
   "cell_type": "markdown",
   "metadata": {},
   "source": [
    "### Split the data 80-10-10"
   ]
  },
  {
   "cell_type": "code",
   "execution_count": 22,
   "metadata": {},
   "outputs": [],
   "source": [
    "sample_count = shuffled_inputs.shape[0]\n",
    "\n",
    "train_sample_count = int(0.8*sample_count)\n",
    "validation_sample_count= int(0.1*sample_count)\n",
    "test_sample_count = sample_count - train_sample_count - validation_sample_count\n",
    "\n",
    "train_inputs = shuffled_inputs[:train_sample_count]\n",
    "train_targets = shuffled_targets[:train_sample_count]\n",
    "\n",
    "validation_inputs = shuffled_inputs[train_sample_count:train_sample_count+validation_sample_count]\n",
    "validation_targets = shuffled_targets[train_sample_count: train_sample_count+validation_sample_count]\n",
    "\n",
    "test_inputs = shuffled_inputs[train_sample_count+validation_sample_count:]\n",
    "test_targets = shuffled_targets[train_sample_count+validation_sample_count:]\n"
   ]
  },
  {
   "cell_type": "markdown",
   "metadata": {},
   "source": [
    "### Lets see whether the data is balanced"
   ]
  },
  {
   "cell_type": "code",
   "execution_count": 52,
   "metadata": {},
   "outputs": [
    {
     "name": "stdout",
     "output_type": "stream",
     "text": [
      "___________________________________________________________________________________________________________________________\n",
      "Train targets      :-  1787.0 |  Train sample count            :-  3579 | 1's and 0's percentage      :-  49.93014808605756\n",
      "___________________________________________________________________________________________________________________________\n",
      "Validation targets :-  226.0  |   validation sample count       :-  447 |  1's and 0's percentage     :-  50.55928411633109\n",
      "___________________________________________________________________________________________________________________________\n",
      "test targets       :-  224.0  |   test sample count             :-  448 |  1's and 0's percentage     :-  50.0\n",
      "___________________________________________________________________________________________________________________________\n"
     ]
    }
   ],
   "source": [
    "print(\"___________________________________________________________________________________________________________________________\")\n",
    "print(\"Train targets      :- \", np.sum(train_targets),\"|  Train sample count            :- \", train_sample_count ,\"| 1's and 0's percentage      :- \", (np.sum(train_targets)/train_sample_count)*100 )\n",
    "print(\"___________________________________________________________________________________________________________________________\")\n",
    "print(\"Validation targets :- \", np.sum(validation_targets),\" |   validation sample count       :- \", validation_sample_count ,\"|  1's and 0's percentage     :- \", (np.sum(validation_targets)/validation_sample_count)*100 )\n",
    "print(\"___________________________________________________________________________________________________________________________\")\n",
    "print(\"test targets       :- \", np.sum(test_targets),\" |   test sample count             :- \", test_sample_count ,\"|  1's and 0's percentage     :- \", (np.sum(test_targets)/test_sample_count)*100 )\n",
    "print(\"___________________________________________________________________________________________________________________________\")"
   ]
  },
  {
   "cell_type": "code",
   "execution_count": null,
   "metadata": {},
   "outputs": [],
   "source": []
  }
 ],
 "metadata": {
  "kernelspec": {
   "display_name": "py3-TF2.0",
   "language": "python",
   "name": "py3-tf2.0"
  },
  "language_info": {
   "codemirror_mode": {
    "name": "ipython",
    "version": 3
   },
   "file_extension": ".py",
   "mimetype": "text/x-python",
   "name": "python",
   "nbconvert_exporter": "python",
   "pygments_lexer": "ipython3",
   "version": "3.7.9"
  }
 },
 "nbformat": 4,
 "nbformat_minor": 4
}
